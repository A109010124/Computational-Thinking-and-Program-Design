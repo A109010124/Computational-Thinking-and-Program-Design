{
  "nbformat": 4,
  "nbformat_minor": 0,
  "metadata": {
    "kernelspec": {
      "display_name": "Python 3",
      "language": "python",
      "name": "python3"
    },
    "language_info": {
      "codemirror_mode": {
        "name": "ipython",
        "version": 3
      },
      "file_extension": ".py",
      "mimetype": "text/x-python",
      "name": "python",
      "nbconvert_exporter": "python",
      "pygments_lexer": "ipython3",
      "version": "3.8.5"
    },
    "colab": {
      "name": "林士堯 - Week14 - 作業習題.ipynb",
      "provenance": [],
      "collapsed_sections": [],
      "include_colab_link": true
    }
  },
  "cells": [
    {
      "cell_type": "markdown",
      "metadata": {
        "id": "view-in-github",
        "colab_type": "text"
      },
      "source": [
        "<a href=\"https://colab.research.google.com/github/A109010124/Computational-Thinking-and-Program-Design/blob/main/%E6%9E%97%E5%A3%AB%E5%A0%AF_Week14_%E4%BD%9C%E6%A5%AD%E7%BF%92%E9%A1%8C.ipynb\" target=\"_parent\"><img src=\"https://colab.research.google.com/assets/colab-badge.svg\" alt=\"Open In Colab\"/></a>"
      ]
    },
    {
      "cell_type": "markdown",
      "metadata": {
        "id": "cJYTYUWuvfdp"
      },
      "source": [
        "**隨堂練習1： BMI 計算**\n",
        "\n",
        "請寫一個程式讓使用者輸入身高與體重，顯示BMI 值與肥胖程度。 BMI 等於體重（KG）除以身高（M）的平方，而BMI 與肥胖分類標準如下：\n",
        "\n",
        "若BMI 值小於18，則顯示「體重過輕」，否則若BMI 值小於24，則顯示「體重正常」，若BMI 值小於27，則顯示「體重過重」，否則顯示「體重肥胖」。"
      ]
    },
    {
      "cell_type": "code",
      "metadata": {
        "id": "c3QiJi3jvfdq",
        "colab": {
          "base_uri": "https://localhost:8080/"
        },
        "outputId": "d66f6b01-f844-46f8-c430-0b774b7cd28c"
      },
      "source": [
        "身高 = float(input(\"請出入你的身高(M)\"))\n",
        "體重 = float(input(\"請出入你的體重(KG)\"))\n",
        "BMI = 體重 / 身高 / 身高\n",
        "if BMI < 18:\n",
        "  print(f\"你的BMI為{round(BMI,1)}，體重過輕\")\n",
        "elif 18 <= BMI < 24:\n",
        "  print(f\"你的BMI為{round(BMI,1)}，體重正常\")\n",
        "elif 24 <= BMI < 27:\n",
        "  print(f\"你的BMI為{round(BMI,1)}，體重過重\")\n",
        "else:\n",
        "  print(f\"你的BMI為{round(BMI,1)}，體重肥胖\")"
      ],
      "execution_count": null,
      "outputs": [
        {
          "output_type": "stream",
          "text": [
            "請出入你的身高(M)1.63\n",
            "請出入你的體重(KG)100\n",
            "你的BMI為37.6，體重肥胖\n"
          ],
          "name": "stdout"
        }
      ]
    },
    {
      "cell_type": "markdown",
      "metadata": {
        "id": "FYYzsAiQvfdr"
      },
      "source": [
        "**隨堂練習2： 三一律(單向選擇、雙向與巢狀選擇、多向選擇)**\n",
        "\n",
        "請輸入一個數，然後判斷這個數是正數、是負數或者是零。"
      ]
    },
    {
      "cell_type": "code",
      "metadata": {
        "id": "Qfx7qpR9vfdr",
        "colab": {
          "base_uri": "https://localhost:8080/"
        },
        "outputId": "b74dad49-bc0e-4d01-ee97-ff71be8d9516"
      },
      "source": [
        "###單向選擇\n",
        "\n",
        "數字 = int(input(\"請輸入一個數字\"))\n",
        "if 數字 < 0:\n",
        "  print(f\"{數字}為負數\")\n",
        "if 數字 > 0:\n",
        "  print(f\"{數字}為正數\")\n",
        "if 數字 == 0:\n",
        "  print(f\"{數字}為0\")\n",
        "\n",
        "###雙向與巢狀選擇\n",
        "\n",
        "數字 = int(input(\"請輸入一個數字\"))\n",
        "if 數字 < 0:\n",
        "  print(f\"{數字}為負數\")\n",
        "else:\n",
        "  if 數字 > 0:\n",
        "    print(f\"{數字}為正數\")\n",
        "  else:\n",
        "    print(f\"{數字}為0\")\n",
        "\n",
        "###多向選擇\n",
        "\n",
        "數字 = int(input(\"請輸入一個數字\"))\n",
        "if 數字 < 0:\n",
        "  print(f\"{數字}為負數\")\n",
        "elif 數字 > 0:\n",
        "  print(f\"{數字}為正數\")\n",
        "else:\n",
        "  print(f\"{數字}為0\")\n"
      ],
      "execution_count": null,
      "outputs": [
        {
          "output_type": "stream",
          "text": [
            "請輸入一個數字0\n",
            "0為0\n",
            "請輸入一個數字1\n",
            "1為正數\n",
            "請輸入一個數字-1\n",
            "-1為負數\n"
          ],
          "name": "stdout"
        }
      ]
    },
    {
      "cell_type": "markdown",
      "metadata": {
        "id": "OcjxhHrqvfdr"
      },
      "source": [
        "**練習5   體溫與發燒**\n",
        "\n",
        "設計程式根據體溫判斷是否發燒，由使用者輸入體溫，程式判斷是否發燒，假設體溫小於36度，顯示「體溫過低」，體溫大於等於36度小於38度，顯示「體溫正常」，否則若體溫大於等於38度小於39度，顯示「體溫有點燒」，否則體溫大於等於39度，顯示「體溫很燒」。\n",
        "\n",
        "輸入體溫「36.5」，輸出為「體溫正常」。\n",
        "\n",
        "～程式執行結果如下。\n",
        "\n",
        "請輸入體溫？36.5\n",
        "\n",
        "體溫正常"
      ]
    },
    {
      "cell_type": "code",
      "metadata": {
        "id": "5aVp6Hy4vfds",
        "colab": {
          "base_uri": "https://localhost:8080/"
        },
        "outputId": "298f576a-8bb0-40ae-ed50-b6af00c50bb1"
      },
      "source": [
        "體溫 = float(input(\"請輸入你的體溫\"))\n",
        "if 體溫 < 36:\n",
        "  print(\"體溫過低\")\n",
        "elif 36 <= 體溫 < 38:\n",
        "  print(\"體溫正常\")\n",
        "elif 38 <= 體溫 < 39:\n",
        "  print(\"體溫有點燒\")\n",
        "else:\n",
        "  print(\"體溫很燒\")"
      ],
      "execution_count": null,
      "outputs": [
        {
          "output_type": "stream",
          "text": [
            "請輸入你的體溫36\n",
            "體溫正常\n"
          ],
          "name": "stdout"
        }
      ]
    },
    {
      "cell_type": "markdown",
      "metadata": {
        "id": "BrP7Lu9cvfds"
      },
      "source": [
        "**練習6  閏年判斷**\n",
        "\n",
        "設計程式允許輸入西元幾年，請求出該年是否是閏年，閏年表示該年多一天，若為4的倍數稱做閏年，但若為100的倍數就不為閏年，且若為400倍數又是閏年。(四年一潤、百年不潤、四百年再潤)\n",
        "\n",
        "輸入年份「2012」，輸出為「2012是閏年」。\n",
        "\n",
        "～程式執行結果如下。\n",
        "\n",
        "請輸入年份？2012\n",
        "\n",
        "2012 是閏年"
      ]
    },
    {
      "cell_type": "code",
      "metadata": {
        "id": "sc1FqT2lvfdt",
        "colab": {
          "base_uri": "https://localhost:8080/"
        },
        "outputId": "37107f18-ee48-46e1-95a1-cd97859e2a08"
      },
      "source": [
        "西元 = eval(input(\"現在是西元幾年\"))\n",
        "\n",
        "if (西元 % 4 == 0 ) :\n",
        "  print(f\"西元{round(西元)}年是閏年\")\n",
        "else:\n",
        "    if (西元 % 100 == 0 ) :\n",
        "      print(f\"西元{round(西元)}年不是閏年\")\n",
        "    elif (西元 % 400 == 0 ) :\n",
        "      print(f\"西元{round(西元)}年是閏年\")\n",
        "    else:\n",
        "      print(f\"西元{round(西元)}年不是閏年\")\n"
      ],
      "execution_count": null,
      "outputs": [
        {
          "output_type": "stream",
          "text": [
            "現在是西元幾年2012\n",
            "西元2012年是閏年\n"
          ],
          "name": "stdout"
        }
      ]
    },
    {
      "cell_type": "code",
      "metadata": {
        "id": "70JhyCaHDPip"
      },
      "source": [
        "西元 = int(input(\"請輸入西元\"))\n",
        "if 西元 % 400 ==0:\n",
        "  print(\"是閏年\")\n",
        "elif 西元 % 100==0:\n",
        "  print(\"不是閏年\")\n",
        "elif 西元 % 4 ==0:\n",
        "  print(\"是閏年\")\n",
        "else:\n",
        "  print(\"不是閏年\")"
      ],
      "execution_count": null,
      "outputs": []
    },
    {
      "cell_type": "markdown",
      "metadata": {
        "id": "BvHjPJEovfdt"
      },
      "source": [
        "**練習12：計程車計費**\n",
        "\n",
        "某城市計程車計費3公里以內6元，超過3公里不足10公里、每公里1.8元，超過10公里則超過部分加收50%。此外停車等候每3分鐘收1元，請用Python寫出車費是多少。"
      ]
    },
    {
      "cell_type": "code",
      "metadata": {
        "id": "irnb1OU5vfdt",
        "colab": {
          "base_uri": "https://localhost:8080/"
        },
        "outputId": "4386bf27-b19f-491a-c789-0222a518be72"
      },
      "source": [
        "距離 = int(input(\"請輸入距離\"))\n",
        "時間 = int(input(\"請輸入時間\"))\n",
        "money1 = 時間 / 3 * 1\n",
        "\n",
        "if 距離 <= 3:\n",
        "  money2 = 6\n",
        "elif 距離 <= 10:\n",
        "  money2 = 6 + (10-3) *1.8\n",
        "else:\n",
        "  money2 = 6 + (10-3) * 1.8 + (距離-10) * 1.8 * 1.5\n",
        "total= money1 + money2\n",
        "print(f\"車費為{total}\")"
      ],
      "execution_count": null,
      "outputs": [
        {
          "output_type": "stream",
          "text": [
            "請出入多少公里(KM)8\n",
            "車費為15.0\n"
          ],
          "name": "stdout"
        }
      ]
    },
    {
      "cell_type": "code",
      "metadata": {
        "id": "a-ot05Hdvfdu"
      },
      "source": [
        "###棒打老虎雞吃蟲\n",
        "\n",
        "出 = int(input(\"請出拳 [0] 蟲 [1] 雞 [2] 老虎 [3] 棒⼦\"))\n",
        "print(f\"你出的是{出}\")\n",
        "import random\n",
        "電腦 = random.randint(0, 3)\n",
        "print(f\"電腦出的是{電腦}\")\n",
        "if 出 == (電腦 + 1) % 4:\n",
        " print(\"我贏了\")\n",
        "elif 電腦 == (出 + 1) % 4:\n",
        " print(\"電腦贏了\")\n",
        "else:\n",
        " print(\"平⼿\")"
      ],
      "execution_count": null,
      "outputs": []
    }
  ]
}