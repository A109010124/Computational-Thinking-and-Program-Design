{
  "nbformat": 4,
  "nbformat_minor": 0,
  "metadata": {
    "kernelspec": {
      "display_name": "Python 3",
      "language": "python",
      "name": "python3"
    },
    "language_info": {
      "codemirror_mode": {
        "name": "ipython",
        "version": 3
      },
      "file_extension": ".py",
      "mimetype": "text/x-python",
      "name": "python",
      "nbconvert_exporter": "python",
      "pygments_lexer": "ipython3",
      "version": "3.8.5"
    },
    "colab": {
      "name": "林士堯-基本程式設計-隨堂練習-應用篇.ipynb",
      "provenance": [],
      "collapsed_sections": [],
      "include_colab_link": true
    }
  },
  "cells": [
    {
      "cell_type": "markdown",
      "metadata": {
        "id": "view-in-github",
        "colab_type": "text"
      },
      "source": [
        "<a href=\"https://colab.research.google.com/github/A109010124/Computational-Thinking-and-Program-Design/blob/main/%E6%9E%97%E5%A3%AB%E5%A0%AF_%E5%9F%BA%E6%9C%AC%E7%A8%8B%E5%BC%8F%E8%A8%AD%E8%A8%88_%E9%9A%A8%E5%A0%82%E7%B7%B4%E7%BF%92_%E6%87%89%E7%94%A8%E7%AF%87.ipynb\" target=\"_parent\"><img src=\"https://colab.research.google.com/assets/colab-badge.svg\" alt=\"Open In Colab\"/></a>"
      ]
    },
    {
      "cell_type": "markdown",
      "metadata": {
        "id": "kHhuHUOYresy"
      },
      "source": [
        "# 基本程式設計(應用篇)"
      ]
    },
    {
      "cell_type": "markdown",
      "metadata": {
        "id": "WW8bODPTres5"
      },
      "source": [
        "## 4. 應用練習"
      ]
    },
    {
      "cell_type": "markdown",
      "metadata": {
        "id": "n7c5Osu0res6"
      },
      "source": [
        "### 4-1 熟能生巧"
      ]
    },
    {
      "cell_type": "markdown",
      "metadata": {
        "id": "IEbRfzMXres7"
      },
      "source": [
        "#### 範例4-1: 基本資料調查的輸入與輸出\n",
        "\n",
        "**寫一個程式**\n",
        "\n",
        "- 螢幕輸出「請問貴姓大名？」，等待輸入姓名，顯示輸入姓名在螢幕上。\n",
        "- 螢幕輸出「請問年紀？」，等待輸入年紀，顯示輸入年紀在螢幕上。\n",
        "- 螢幕輸出「請問體重？」，等待輸入體重，顯示輸入體重在螢幕上。"
      ]
    },
    {
      "cell_type": "markdown",
      "metadata": {
        "id": "fhH5gCFMres7"
      },
      "source": [
        "In [1]: name = input('請問貴姓大名？') \n",
        "   ...: print('你好，', name)\n",
        "   ...: \n",
        "   ...: age = int(input('請問年紀？'))\n",
        "   ...: print('原來你', age ,'歲')\n",
        "   ...: \n",
        "   ...: weight = float(input('請問體重？'))\n",
        "   ...: print('體重為', weight)\n",
        "\n",
        "請問貴姓大名？Francis\n",
        "你好， Francis\n",
        "\n",
        "請問年紀？18\n",
        "原來你 18 歲\n",
        "\n",
        "請問體重？100\n",
        "體重為 100.0"
      ]
    },
    {
      "cell_type": "code",
      "metadata": {
        "id": "nDidnHN-res8"
      },
      "source": [
        ""
      ],
      "execution_count": null,
      "outputs": []
    },
    {
      "cell_type": "markdown",
      "metadata": {
        "id": "GD7o8xTfres9"
      },
      "source": [
        "#### 範例練習4-2： 計算圓面積與圓周長\n",
        "\n",
        "請設計一個程式計算圓面積與圓周長，依輸入的半徑計算圓面積與圓周長。"
      ]
    },
    {
      "cell_type": "code",
      "metadata": {
        "id": "zUuAlSarres9"
      },
      "source": [
        "In [1]: ## 給我半徑、用公式計算圓面積與周長\n",
        "   ...: ## Input\n",
        "   ...: \n",
        "   ...: ## Process\n",
        "   ...: circumference = 2 * PI * radius\n",
        "   ...: area = radius * radius * PI\n",
        "   ...: ## Outputradius = float(input('請輸入半徑？'))\n",
        "   ...: PI = 3.14159\n",
        "   ...: print(f'圓周長為 {circumference}， 圓面積為 {area}。')\n",
        "\n",
        "請輸入半徑？10\n",
        "圓周長為 62.8318， 圓面積為 314.159。"
      ],
      "execution_count": null,
      "outputs": []
    },
    {
      "cell_type": "code",
      "metadata": {
        "id": "AU51Ou5Ores9",
        "colab": {
          "base_uri": "https://localhost:8080/"
        },
        "outputId": "e09bf5da-2a61-4532-c4b7-75ff4201679a"
      },
      "source": [
        "半徑= float(input('請輸入半徑？'))\n",
        "pi=3.14159\n",
        "圓周長=2*pi*半徑\n",
        "圓面積=半徑*半徑*pi\n",
        "print(f\"圓周長為 {圓周長} ，圓面積為 {圓面積} 。\")"
      ],
      "execution_count": null,
      "outputs": [
        {
          "output_type": "stream",
          "text": [
            "請輸入半徑？3\n",
            "圓周長為 18.849539999999998 ，圓面積為 28.27431 。\n"
          ],
          "name": "stdout"
        }
      ]
    },
    {
      "cell_type": "markdown",
      "metadata": {
        "id": "a7RgTBJgres-"
      },
      "source": [
        "**隨堂練習: 求圓環的面積**\n",
        "\n",
        "輸入外圓直徑r1與內圓直徑r2，求圓環面積。"
      ]
    },
    {
      "cell_type": "code",
      "metadata": {
        "id": "kjfXCaXcres-",
        "colab": {
          "base_uri": "https://localhost:8080/"
        },
        "outputId": "550d1b10-1149-48cf-e80d-942ef9e3e12d"
      },
      "source": [
        "r1= float(input('請輸入r1直徑？'))\n",
        "r2= float(input('請輸入r2直徑？'))\n",
        "pi=3.14159\n",
        "s1= pi * r1/2 * r1/2\n",
        "s2= pi * r2/2 * r2/2\n",
        "圓環面積= s1 - s2\n",
        "print(\"外圓面積\",s1)\n",
        "print(\"內圓面積\",s2)\n",
        "print(\"圓環面積為\",圓環面積)"
      ],
      "execution_count": null,
      "outputs": [
        {
          "output_type": "stream",
          "text": [
            "請輸入r1直徑？8\n",
            "請輸入r2直徑？6\n",
            "外圓面積 50.26544\n",
            "內圓面積 28.274309999999996\n",
            "圓環面積為 21.991130000000002\n"
          ],
          "name": "stdout"
        }
      ]
    },
    {
      "cell_type": "markdown",
      "metadata": {
        "id": "c4mOuk-zres-"
      },
      "source": [
        "1#### 範例練習4-3： 攝氏轉華氏\n",
        "\n",
        "請設計一個程式將輸入的攝氏溫度轉成華氏溫度，轉換公式如下:華氏溫度= 攝氏溫度*9/5+32"
      ]
    },
    {
      "cell_type": "code",
      "metadata": {
        "id": "L8sUHg_Eres_"
      },
      "source": [
        "In [1]: ## Input\n",
        "   ...: c = float(input('請輸入攝氏溫度？')) \n",
        "   ...: \n",
        "   ...: ## Process\n",
        "   ...: f = c * 9/5 + 32                 \n",
        "   ...: \n",
        "   ...: ## Output\n",
        "   ...: print('華氏溫度為', f)\n",
        "\n",
        "請輸入攝氏溫度？30\n",
        "華氏溫度為 86.0\n",
        "\n",
        "In [2]: ## 延伸：華氏轉攝氏\n",
        "   ...: c1 = (f - 32) * (5/9)\n",
        "   ...: print(\"攝氏溫度\", c1)\n",
        "攝氏溫度 30.0"
      ],
      "execution_count": null,
      "outputs": []
    },
    {
      "cell_type": "code",
      "metadata": {
        "id": "rerx0ueYres_",
        "colab": {
          "base_uri": "https://localhost:8080/"
        },
        "outputId": "e2e46fa2-e38e-4275-d36d-a83e8c697f67"
      },
      "source": [
        "c = float(input('請輸入攝氏溫度？'))\n",
        "f = c * 9/5 + 32   \n",
        "print('華氏溫度為', f)\n",
        "c = (f - 32) * (5/9)\n",
        "print(\"攝氏溫度\", c)\n"
      ],
      "execution_count": null,
      "outputs": [
        {
          "output_type": "stream",
          "text": [
            "請輸入攝氏溫度？5\n",
            "華氏溫度為 41.0\n",
            "攝氏溫度 5.0\n"
          ],
          "name": "stdout"
        }
      ]
    },
    {
      "cell_type": "markdown",
      "metadata": {
        "id": "g-uRadkIres_"
      },
      "source": [
        "**隨堂練習 : 英制轉公制**\n",
        "\n",
        "將身高由英制改成公制，例如5尺8吋換算成公制，1尺等於12吋，1吋等於2.54公分，轉換公式為(5*12+8)*2.54等於172.72公分。\n",
        "\n",
        "～預覽結果\n",
        "\n",
        "輸入「5」尺，輸入「8」吋，計算結果顯示在螢幕如下。\n",
        "\n",
        "請輸入幾尺？5\n",
        "\n",
        "請輸入幾吋？8\n",
        "\n",
        "轉換成 172.72 公分"
      ]
    },
    {
      "cell_type": "code",
      "metadata": {
        "id": "s3w8ZsKAretA",
        "colab": {
          "base_uri": "https://localhost:8080/"
        },
        "outputId": "4535291b-8385-4992-93a7-e195db5dd60b"
      },
      "source": [
        "尺= float(input(\"請輸入幾尺\"))\n",
        "吋= float(input(\"請輸入幾吋\"))\n",
        "身高= ( 尺*12 + 吋 ) *2.54\n",
        "print(尺,\"尺\",吋, \"吋\",身高,\"公分\")"
      ],
      "execution_count": null,
      "outputs": [
        {
          "output_type": "stream",
          "text": [
            "請輸入幾尺5\n",
            "請輸入幾吋8\n",
            "5.0 尺 8.0 吋 172.72 公分\n"
          ],
          "name": "stdout"
        }
      ]
    },
    {
      "cell_type": "markdown",
      "metadata": {
        "id": "sssRwWKwretA"
      },
      "source": [
        "#### 範例練習4-4:  服裝訂購系統\n",
        "\n",
        "**假設上衣300元、褲子350元與背心400元，使用者可以自行輸入三種服裝的數量，請設計一個程式計算訂購服裝的總金額。\n"
      ]
    },
    {
      "cell_type": "code",
      "metadata": {
        "id": "SEPdm_o8retA"
      },
      "source": [
        "In [1]: ## Total = P1*Q1 + P2*Q2 + P3*Q3\n",
        "   ...: ## Input Data\n",
        "   ...: cloth = int(input('請輸入上衣數量？')) \n",
        "   ...: trousers = int(input('請輸入褲子數量？'))\n",
        "   ...: vest = int(input('請輸入背心數量？'))\n",
        "   ...: ## Process\n",
        "   ...: total = cloth*300 + trousers*350 + vest*400\n",
        "   ...: ## Output\n",
        "   ...: print('訂購服裝的總金額為', total)\n",
        "\n",
        "請輸入上衣數量？10\n",
        "\n",
        "請輸入褲子數量？8\n",
        "\n",
        "請輸入背心數量？5\n",
        "訂購服裝的總金額為 7800"
      ],
      "execution_count": null,
      "outputs": []
    },
    {
      "cell_type": "code",
      "metadata": {
        "id": "i_xaBoG9retB",
        "colab": {
          "base_uri": "https://localhost:8080/"
        },
        "outputId": "43321b41-fd02-4ccd-bb1f-2d455b97496c"
      },
      "source": [
        "cloth = int(input('請輸入上衣數量？')) \n",
        "trousers = int(input('請輸入褲子數量？'))\n",
        "vest = int(input('請輸入背心數量？'))\n",
        "total = cloth*300 + trousers*350 + vest*400\n",
        "print('訂購服裝的總金額為', total)\n"
      ],
      "execution_count": null,
      "outputs": [
        {
          "output_type": "stream",
          "text": [
            "請輸入上衣數量？5\n",
            "請輸入褲子數量？5\n",
            "請輸入背心數量？5\n",
            "訂購服裝的總金額為 5250\n"
          ],
          "name": "stdout"
        }
      ]
    },
    {
      "cell_type": "markdown",
      "metadata": {
        "id": "rsbnQHTTretB"
      },
      "source": [
        "####  範例練習4-5: 賣場買飲料\n",
        "\n",
        "**為了刺激銷售量，賣場通常買一打會比買一罐便宜，假設一罐賣20元，一打賣200元，請設計一個程式計算買幾罐需花多少錢，若不足一打就個別買。**\n",
        "\n",
        "～預覽結果\n",
        "輸入購買飲料的罐數，如「30」，計算結果顯示在螢幕如下。\n",
        "請輸入購買飲料的罐數？30\n",
        "需花費 520"
      ]
    },
    {
      "cell_type": "code",
      "metadata": {
        "id": "p8u3bBkWretB"
      },
      "source": [
        "In [1]: ## Total = 200 * 幾打 ＋ 20 ＊ 罐\n",
        "   ...: ## Input Data\n",
        "   ...: cans = int(input('請輸入購買飲料的罐數？')) #數字轉文字\n",
        "   ...: ## Process\n",
        "   ...: total = (cans//12)*200 + (cans%12)*20\n",
        "   ...: ## Output\n",
        "   ...: print('需花費', total)\n",
        "\n",
        "請輸入購買飲料的罐數？124\n",
        "需花費 2080"
      ],
      "execution_count": null,
      "outputs": []
    },
    {
      "cell_type": "code",
      "metadata": {
        "id": "u2KYh4XrretB"
      },
      "source": [
        ""
      ],
      "execution_count": null,
      "outputs": []
    },
    {
      "cell_type": "markdown",
      "metadata": {
        "id": "yyni9PxKretD"
      },
      "source": [
        "#### 範例練習4-6：求三數總和與平均\n",
        "\n",
        "**求第一次期中考、第二次期中考與期末考成績，成績皆為整數，請計算分數的加總與平均。**\n",
        "\n",
        "～預覽結果\n",
        "第一次期中考輸入「75」，第二次期中考輸入「80」，期末考輸入「65」，計算結果顯示在螢幕。\n",
        "請輸入第一次期中考成績？75\n",
        "請輸入第二次期中考成績？80\n",
        "請輸入期末考成績？65\n",
        "總分為 220 平均為 73.33333333333333"
      ]
    },
    {
      "cell_type": "code",
      "metadata": {
        "id": "9tFg-8tJretE"
      },
      "source": [
        "In [1]: ## 計算三次成績的總和與平均\n",
        "   ...: ## Input Data\n",
        "   ...: first = int(input('請輸入第一次期中考成績？'))\n",
        "   ...: second = int(input('請輸入第二次期中考成績？'))\n",
        "   ...: final = int(input('請輸入期末考成績？'))\n",
        "   ...: ## Process\n",
        "   ...: sum = first + second + final\n",
        "   ...: average = sum/3\n",
        "   ...: ## Output\n",
        "   ...: print('總分為', sum, '平均為', average)\n",
        "\n",
        "請輸入第一次期中考成績？66\n",
        "\n",
        "請輸入第二次期中考成績？88\n",
        "\n",
        "請輸入期末考成績？90\n",
        "總分為 244 平均為 81.33333333333333"
      ],
      "execution_count": null,
      "outputs": []
    },
    {
      "cell_type": "code",
      "metadata": {
        "id": "6_26T2R-retE"
      },
      "source": [
        "first = int(input('請輸入第一次期中考成績？'))\n",
        "second = int(input('請輸入第二次期中考成績？'))\n",
        "final = int(input('請輸入期末考成績？'))\n",
        "sum = first + second + final\n",
        "average = sum/3\n",
        "print('總分為', sum, '平均為', average)\n"
      ],
      "execution_count": null,
      "outputs": []
    },
    {
      "cell_type": "markdown",
      "metadata": {
        "id": "fv73GqRpretE"
      },
      "source": [
        "**隨堂練習： 請計算NBA 史上最偉大的中鋒之一，「柴油引擎」俠客歐尼爾（Shaquille O’Neal）巔峰時期的BMI。\n",
        "當時他的身高(216cm)與體重(147kg)，而其所對應的身體質量指數公式為BMI ＝ 公斤 / 公尺平方。"
      ]
    },
    {
      "cell_type": "code",
      "metadata": {
        "id": "MmoyirTmretE"
      },
      "source": [
        "In [1]: player_name = input(\"請輸入球員姓名：\")\n",
        "   ...: player_height = input(\"請輸入球員身高（cm）：\")\n",
        "   ...: player_weight = input(\"請輸入球員體重（kg）：\")\n",
        "   ...: \n",
        "   ...: player_height = float(player_height)\n",
        "   ...: player_weight = float(player_weight)\n",
        "   ...: player_bmi = player_weight/(player_height*0.01)**2\n",
        "   ...: \n",
        "   ...: print(\"{}的身體質量指數為：{:.2f}\".format(player_name, player_bmi))\n",
        "   ...: print(player_name,'的身體質量指數為', player_bmi )\n",
        "\n",
        "請輸入球員姓名：Shaquille O’Neal\n",
        "\n",
        "請輸入球員身高（cm）：216\n",
        "\n",
        "請輸入球員體重（kg）：147\n",
        "Shaquille O’Neal的身體質量指數為：31.51\n",
        "Shaquille O’Neal 的身體質量指數為 31.507201646090532"
      ],
      "execution_count": null,
      "outputs": []
    },
    {
      "cell_type": "code",
      "metadata": {
        "id": "7LmPUNS-retF",
        "colab": {
          "base_uri": "https://localhost:8080/"
        },
        "outputId": "d58f9abb-cbd1-459a-ef6b-26bb06fdfbee"
      },
      "source": [
        "球員姓名 = input(\"請輸入球員姓名：\")\n",
        "球員身高 = input(\"請輸入球員身高（cm）：\")\n",
        "球員體重 = input(\"請輸入球員體重（kg）：\") \n",
        "球員身高 = float(球員身高)\n",
        "球員體重 = float(球員體重)\n",
        "球員BMI = 球員體重/(球員身高*0.01)**2 \n",
        "print(\"{}的身體質量指數為：{:.2f}\".format(player_name, player_bmi))\n",
        "print(player_name,'的身體質量指數為', player_bmi )\n"
      ],
      "execution_count": null,
      "outputs": [
        {
          "output_type": "stream",
          "text": [
            "請輸入球員姓名：Shaquille O'neal\n",
            "請輸入球員身高（cm）：216\n",
            "請輸入球員體重（kg）：147\n",
            "31的身體質量指數為：31.51\n",
            "31 的身體質量指數為 31.507201646090532\n"
          ],
          "name": "stdout"
        }
      ]
    },
    {
      "cell_type": "markdown",
      "metadata": {
        "id": "p0Dggo6lretF"
      },
      "source": [
        "### 4-2 運算思維四個基石"
      ]
    },
    {
      "cell_type": "markdown",
      "metadata": {
        "id": "tM1GLft9retF"
      },
      "source": [
        "#### 4-2-1. 抽象化 - 電影魔球"
      ]
    },
    {
      "cell_type": "code",
      "metadata": {
        "id": "-umxhPNwretF"
      },
      "source": [
        "In [1]: ## 1. 從IMBD電影資料庫找出要記錄的魔球電影相關資訊\n",
        "   ...: ## 網址：https://www.imdb.com/title/tt1210166/\n",
        "   ...: ## 相關資訊：電影名稱、放映日期......\n",
        "   ...: \n",
        "   ...: ## 2. 在Python用變數儲存資訊\n",
        "   ...: movie_title = \"money ball\" # 電影名稱\n",
        "   ...: release_year = \"2011\"  # 放映日期\n",
        "   ...: movie_time_min = 133 # 片長\n",
        "   ...: movie_rating = 7.6 #評分\n",
        "   ...: \n",
        "   ...: director = \"Bennett Miller\" # 導演\n",
        "   ...: stars_1 = \"Brad Pitt\" #主要演員\n",
        "   ...: stars_2 = \"Robin Wright\"\n",
        "   ...: stars_3 = \"Jonah Hill\" \n",
        "   ...: \n",
        "   ...: like = 1 # 你喜不喜歡\n",
        "   ...: \n",
        "   ...: ## 3. 印出魔球電影的相關資訊\n",
        "   ...: print(movie_title)  # 螢幕列印\n",
        "   ...: print(release_year)\n",
        "   ...: print(movie_time_min)\n",
        "money ball\n",
        "2011\n",
        "133"
      ],
      "execution_count": null,
      "outputs": []
    },
    {
      "cell_type": "code",
      "metadata": {
        "id": "96sHNFynretG"
      },
      "source": [
        ""
      ],
      "execution_count": null,
      "outputs": []
    },
    {
      "cell_type": "markdown",
      "metadata": {
        "id": "5kRqOHHvretG"
      },
      "source": [
        "#### 4-2-2.  演算法 - 時間轉換"
      ]
    },
    {
      "cell_type": "markdown",
      "metadata": {
        "id": "d86klX9ZretG"
      },
      "source": [
        "**請將123分鐘數轉換為幾小時幾分鐘。**"
      ]
    },
    {
      "cell_type": "code",
      "metadata": {
        "id": "MW7DO3zQretG",
        "colab": {
          "base_uri": "https://localhost:8080/",
          "height": 131
        },
        "outputId": "63828e93-f3f6-4d3e-94a6-53e6e6826d6d"
      },
      "source": [
        "In [5]: # 將123分鐘轉成2小時3分鐘\n",
        "   ...: ## 1. 建立變數，輸入資料並儲存\n",
        "   ...: time = 123\n",
        "   ...: \n",
        "   ...: ## 2. 方法（一）\n",
        "   ...: ## 變數轉換為小時數\n",
        "   ...: hours = time/60 # 123/60 = 2.05\n",
        "   ...: hours1 = int(hours) #取整數為「時」\n",
        "   ...: \n",
        "   ...: ## 取得轉換後的分鐘數\n",
        "   ...: minutes = hours1 - hours #2.05-2 = 0.05\n",
        "   ...: minutes1 = round(minutes*60) # 0.05*60 = 3，但要四捨五入 \n",
        "   ...: \n",
        "   ...: ## 3. 顯示結果\n",
        "   ...: print(time, \"is equal to\", hours1, \"Hours and\", minutes1, \"Minutes\")\n",
        "123 is equal to 2 Hours and -3 Minutes"
      ],
      "execution_count": null,
      "outputs": [
        {
          "output_type": "error",
          "ename": "SyntaxError",
          "evalue": "ignored",
          "traceback": [
            "\u001b[0;36m  File \u001b[0;32m\"<ipython-input-4-2812e86e05e8>\"\u001b[0;36m, line \u001b[0;32m16\u001b[0m\n\u001b[0;31m    123 is equal to 2 Hours and -3 Minutes\u001b[0m\n\u001b[0m                  ^\u001b[0m\n\u001b[0;31mSyntaxError\u001b[0m\u001b[0;31m:\u001b[0m invalid syntax\n"
          ]
        }
      ]
    },
    {
      "cell_type": "code",
      "metadata": {
        "id": "2yR0y-DbretH",
        "colab": {
          "base_uri": "https://localhost:8080/"
        },
        "outputId": "e9ab83f6-bf2d-48c7-afbe-796c63ee27c9"
      },
      "source": [
        "time=123\n",
        "hours=time/60\n",
        "hours1=int(hours)\n",
        "minutes=(hours-hours1) *60\n",
        "minutes1=round(minutes)\n",
        "print(time,\"分鐘，等於\",hours1,\"小時\",minutes1,\"分鐘\")"
      ],
      "execution_count": null,
      "outputs": [
        {
          "output_type": "stream",
          "text": [
            "123 分鐘，等於 2 小時 3 分鐘\n"
          ],
          "name": "stdout"
        }
      ]
    },
    {
      "cell_type": "code",
      "metadata": {
        "id": "o-BhDGS-retH"
      },
      "source": [
        "In [6]: # 1. 建立變數，輸入資料並儲存\n",
        "   ...: time = 123\n",
        "   ...: \n",
        "   ...: # 2. 方法（二）運算子\n",
        "   ...: hours2 = time // 60  #商數為小時數\n",
        "   ...: minutes2 = time % 60  #餘數為分鐘數\n",
        "   ...: \n",
        "   ...: # 3. 顯示結果\n",
        "   ...: print(time, \"is equal to\", hours2, \"Hours and\", minutes2, \"Minutes\")\n",
        "123 is equal to 2 Hours and 3 Minutes\n"
      ],
      "execution_count": null,
      "outputs": []
    },
    {
      "cell_type": "code",
      "metadata": {
        "id": "c55feno-retI"
      },
      "source": [
        ""
      ],
      "execution_count": null,
      "outputs": []
    },
    {
      "cell_type": "markdown",
      "metadata": {
        "id": "EP_ZtGWQretI"
      },
      "source": [
        "#### 4-2-3. 模式辨識 - 報告分組"
      ]
    },
    {
      "cell_type": "markdown",
      "metadata": {
        "id": "ZSS8QidFretI"
      },
      "source": [
        "**範例說明：報告分組**\n",
        "\n",
        "因為教學需求，全班40位同學要進行分組報告，每五位同學一組，老師規定依座號順序分組，也就是1號到5號一組，6號到10號一組，請寫一個程式允許使用者輸入座號，輸出分組的組別。"
      ]
    },
    {
      "cell_type": "code",
      "metadata": {
        "id": "YxxSZVGEretI"
      },
      "source": [
        "～預覽結果\n",
        "輸入座號，例如「19」，計算結果顯示在螢幕如下。\n",
        "請輸入座號？19\n",
        "組別為 4\n",
        "\n",
        "～運算思維：模式辨識\n",
        "\n",
        "1 ，1/5 ......= 0.2  -> 商數0餘數1 ->  0,0\n",
        "\n",
        "2，2/5 ......= 0.4   -> 商數0餘數2 ->  0,1\n",
        "\n",
        "3，3/5 ......= 0.6   ->  商數0餘數3 -> 0,2\n",
        "\n",
        "4， 4/5 ......= 0.8  ->  商數0餘數4 -> 0,3\n",
        "\n",
        "5，5/5 ...... = 1     ->  商數1餘數0 -> 0,4"
      ],
      "execution_count": null,
      "outputs": []
    },
    {
      "cell_type": "code",
      "metadata": {
        "id": "MgmRZCkwretJ"
      },
      "source": [
        "## 運算思維 - 模式辨識\n",
        "## 方法（一）：餘數位置從0開始 + 商數為組數\n",
        "seats = int(input('請輸入座號？')) #文字轉數字\n",
        "groups = (seats - 1)//5 + 1\n",
        "print('組別為', groups)\n",
        "\n",
        "## 方法（二）：函式（上限為組別）\n",
        "import math\n",
        "seats = int(input(\"請輸入座號？\"))\n",
        "groups = math.ceil(seats/5)\n",
        "print(\"組別為\",groups)\n",
        "\n",
        "## 方法（三）：用餘數為條件分組\n",
        "seats = int(input(\"請輸入座號？ \"))\n",
        "if seats%5 == 0:\n",
        "    print(\"組別為\", seats//5)\n",
        "else:\n",
        "    print(\"組別為\", seats//5 +1)"
      ],
      "execution_count": null,
      "outputs": []
    },
    {
      "cell_type": "code",
      "metadata": {
        "id": "p2egAuiYretJ",
        "colab": {
          "base_uri": "https://localhost:8080/"
        },
        "outputId": "8e1b2f92-632a-4667-e78a-62e3a2a7d83b"
      },
      "source": [
        "import math\n",
        "seats = int(input(\"請輸入座號?\"))\n",
        "groups = math.ceil(seats/5)\n",
        "print(f\"我的組別是 {groups} 組\")"
      ],
      "execution_count": null,
      "outputs": [
        {
          "output_type": "stream",
          "text": [
            "請輸入座號?19\n",
            "我的組別是 4 組\n"
          ],
          "name": "stdout"
        }
      ]
    },
    {
      "cell_type": "markdown",
      "metadata": {
        "id": "Y30l2Wq7retJ"
      },
      "source": [
        "#### 4-2-4  問題拆解 - 打造你的聊天機器人"
      ]
    },
    {
      "cell_type": "markdown",
      "metadata": {
        "id": "QopxWjoVretK"
      },
      "source": [
        "# \n",
        "「哈囉，大家好。我叫Zyxo64，是一個聊天機器人。\n",
        "\n",
        "在嗜好與興趣方面，我很喜歡美食，也喜歡養動物。\n",
        "\n",
        "很高興有機會來到世新大學，請大家多多指教。\n",
        "\n",
        "嗨！妳好，請問大名？：**Francis**。\n",
        "\n",
        "*Francis*，很高興認識你。\n",
        "\n",
        "抱歉，請問一下今年是西元2021年，那是民國幾年呢？：*110*。\n",
        "\n",
        "對！沒錯，謝謝妳！\n",
        "\n",
        "**Francis**，猜猜看我今年幾歲？ ：**18**。\n",
        "\n",
        "哇！你好聰明，我今年的確*18*。\n",
        "\n",
        "再82年我就100歲了。\n",
        "\n",
        "那時候是西元 2103年，也就是民國192年囉！\n",
        "\n",
        "我喜歡吃巧克力，也喜歡嘗試各種新食物。\n",
        "\n",
        "你呢？你最喜歡的食物是什麼？**:披薩**。\n",
        "\n",
        "我也喜歡 *披薩*。\n",
        "\n",
        "你多久吃一次 *披薩*？**：每天**。\n",
        "\n",
        "真有趣。不知道這樣對健康好不好。\n",
        "\n",
        "我最喜歡的動物是長頸鹿。你呢？ **：烏龜**。\n",
        "\n",
        "我不喜歡*烏龜*！\n",
        "\n",
        "不知道 *烏龜* 喜不喜歡吃 *披薩*？\n",
        "\n",
        "你今天的心情如何？ **：很開心**。\n",
        "\n",
        "可以告訴我你 *開心* 的原因嗎？**因為週末了！** \n",
        "\n",
        "祝你週末愉快！\n",
        "\n",
        "我喜歡跟你聊天，現在有點累了，改天再聊吧！！\n",
        "\n",
        "再見 *Francis*！！！"
      ]
    },
    {
      "cell_type": "code",
      "metadata": {
        "id": "G8XWqLlPretK"
      },
      "source": [
        "# 1.聊天機器人自我介紹\n",
        "print(\"哈囉，大家好。我叫Zyxo64，是一個聊天機器人。\")\n",
        "hobby = \"我很喜歡美食東西，也喜歡養動物。今天很高興有機會來到世新大學，請大家多多指教。\"\n",
        "print( hobby )\n",
        "\n",
        "# 2. 打招呼，取得對方名字\n",
        "name = input(\"嗨！妳好，請問大名？: \")\n",
        "print(\"你好\", name, \"很高興認識你\")\n",
        "\n",
        "# 3. 數學運算\n",
        "## 3-1 從使用者取得今年年份\n",
        "year = input(\"請問一下今年是西元2021年，那是民國幾年呢？ \")\n",
        "print(\"對！應該沒錯，謝謝妳！\")\n",
        "\n",
        "## 3-2 請使用者猜年齡\n",
        "myage = int(input(\"Francis，猜猜看我今年幾歲？ \"))\n",
        "print(\"哇！你好聰明，我今年的確\", myage)\n",
        "\n",
        "## 3-3 計算聊天機器人滿100歲的年份\n",
        "nyears = 100 - myage\n",
        "print(\"我再\", nyears, \"年就滿100歲了。\")\n",
        "\n",
        "print(\"到時候是西元\", int(year) + nyears + 1911, \"年\") # 將今年年份轉換為整數\n",
        "print(\"也就是民國\", int(year) + nyear, \"年\") # 民國幾年"
      ],
      "execution_count": null,
      "outputs": []
    },
    {
      "cell_type": "code",
      "metadata": {
        "id": "6rKmxC8LretK",
        "colab": {
          "base_uri": "https://localhost:8080/"
        },
        "outputId": "78b60824-8adc-4acc-a873-27d63a388f51"
      },
      "source": [
        "###\n",
        "\n",
        "print(\"\"\"\n",
        "哈囉，大家好。我叫Yao，是一個聊天機器人。\n",
        "\n",
        "在嗜好與興趣方面，我很吃美食，也喜歡養動物。\n",
        "\n",
        "很高興有機會來到世新大學，請大家多多指教。\n",
        "\"\"\")\n",
        "\n",
        "###\n",
        "\n",
        "print(\"嗨!你好。\")\n",
        "名字 = input(\"請問你的名字是\")\n",
        "print(f\"{名字} ,很高興認識你\")\n",
        "\n",
        "###\n",
        "\n",
        "民國 = input(\"請問一下今年是西元2021年，那是民國幾年呢？ \")\n",
        "print(\"對！應該沒錯，謝謝妳！\")\n",
        "###\n",
        "\n",
        "年紀 = int(input(f\"{name}，猜猜看我今年幾歲？ \"))\n",
        "print(\"哇！你好聰明，我今年的確\", 年紀)\n",
        "\n",
        "###\n",
        "\n",
        "民國 = int(民國)\n",
        "年紀 = int(年紀)\n",
        "print(f\"再{100-年紀}年我就100歲了\")\n",
        "time = 民國 + 1911 + (100-年紀)\n",
        "print(f\"那時候是西元{time}年，也就是民國{time-1911}年喔!\")\n",
        "\n",
        "###\n",
        "\n",
        "print(\"我喜歡棒棒糖，也喜歡嘗試各種新食物。\")\n",
        "食物 = input(\"你呢。你最喜歡的食物是什麼？： \")\n",
        "print(\"我也喜歡\", 食物)\n",
        "\n",
        "howoften = input(\"你多久吃一次\" + 食物 + \"? \")\n",
        "print(\"真有趣。不知道這樣對健康好不好！\")\n",
        "\n",
        "###\n",
        "\n",
        "動物 = input(\"我最喜歡的動物是企鵝。你呢？； \")\n",
        "print(\"我也喜歡\", 動物)\n",
        "print(\"不知道\", 動物, \"喜不喜歡吃\", 食物, \"?\")\n",
        "\n",
        "###\n",
        "\n",
        "心情 = input(\"你今天心情如何？； \")\n",
        "print(\"可以告訴我，你\", 心情, \"的原因。 \")\n",
        "reason = input(\"為什麼： \")\n",
        "print(\"我知道了。謝謝分享。\")\n",
        "\n",
        "###\n",
        "\n",
        "print(\"祝你週末愉快！\")\n",
        "print(\"跟你聊天很有趣，現在感覺有點累了，下次再聊!!\")\n",
        "print(\"掰掰\", name, \"我喜歡和你聊天！\")\n",
        "\n",
        "###"
      ],
      "execution_count": null,
      "outputs": [
        {
          "output_type": "stream",
          "text": [
            "\n",
            "哈囉，大家好。我叫Zyxo64，是一個聊天機器人。\n",
            "\n",
            "在嗜好與興趣方面，我很喜歡美食，也喜歡養動物。\n",
            "\n",
            "很高興有機會來到世新大學，請大家多多指教。\n",
            "\n",
            "嗨!你好。\n",
            "請問你的名字是林士堯\n",
            "林士堯 ,很高興認識你\n",
            "請問一下今年是西元2021年，那是民國幾年呢？ 110\n",
            "對！應該沒錯，謝謝妳！\n",
            "123，猜猜看我今年幾歲？ 20\n",
            "哇！你好聰明，我今年的確 20\n",
            "再80年我就100歲了\n",
            "那時候是西元2101年，也就是民國190年喔!\n",
            "我喜歡巧克力，也喜歡嘗試各種新食物。\n",
            "你呢。你最喜歡的食物是什麼？： 30\n",
            "我也喜歡 30\n",
            "你多久吃一次30? 30\n",
            "真有趣。不知道這樣對健康好不好！\n",
            "我最喜歡的動物是長頸鹿。你呢？； 30\n",
            "我也喜歡 30\n",
            "不知道 30 喜不喜歡吃 30 ?\n",
            "你今天心情如何？； 30\n",
            "可以告訴我，你 30 的原因。 \n",
            "為什麼： 30\n",
            "我知道了。謝謝分享。\n",
            "祝你週末愉快！\n",
            "我喜歡跟你聊天，現在有點累了，下次再聊!!\n",
            "再見 123 我喜歡跟你聊天！\n"
          ],
          "name": "stdout"
        }
      ]
    },
    {
      "cell_type": "code",
      "metadata": {
        "id": "5cNbO6hDretK",
        "colab": {
          "base_uri": "https://localhost:8080/",
          "height": 437
        },
        "outputId": "7f0f9da1-211d-40af-a4cd-7705d46ae5d5"
      },
      "source": [
        "# 4 興趣\n",
        "## 4-1 食物話題\n",
        "print(\"我喜歡巧克力，也喜歡嘗試各種新食物。\")\n",
        "food = input(\"你呢。你最喜歡的食物是什麼？： \")\n",
        "print(\"我也喜歡\", food)\n",
        "question = \"你多久吃一次\" + food + \"?: \"\n",
        "howoften = input(question)\n",
        "print(\"真有趣。不知道這樣對健康好不好！\")\n",
        "\n",
        "## 4-2 動物話題\n",
        "animal = input(\"我最喜歡的動物是長頸鹿。你呢？； \")\n",
        "print(\"我不喜歡\", animal)\n",
        "print(\"不知道\", animal, \"喜不喜歡吃\", food, \"?\")\n",
        "\n",
        "# 5. 關於心情的對話\n",
        "feeling = input(\"你今天心情如何？； \")\n",
        "print(\"可以告訴我，你\", feeling, \"的原因。 \")\n",
        "reason = input(\"為什麼： \")\n",
        "print(\"我知道了。謝謝分享。\")\n",
        "\n",
        "# 6. 道別\n",
        "print(\"祝你週末愉快！\")\n",
        "print(\"我喜歡跟你聊天，現在有點累了，下次再聊!!\")\n",
        "print(\"再見\", name, \"我喜歡跟你聊天！\")\n"
      ],
      "execution_count": 10,
      "outputs": [
        {
          "output_type": "stream",
          "text": [
            "我喜歡巧克力，也喜歡嘗試各種新食物。\n",
            "你呢。你最喜歡的食物是什麼？： 1\n",
            "我也喜歡 1\n",
            "你多久吃一次1?: 1\n",
            "真有趣。不知道這樣對健康好不好！\n",
            "我最喜歡的動物是長頸鹿。你呢？； 1\n",
            "我不喜歡 1\n",
            "不知道 1 喜不喜歡吃 1 ?\n",
            "你今天心情如何？； 1\n",
            "可以告訴我，你 1 的原因。 \n",
            "為什麼： 1\n",
            "我知道了。謝謝分享。\n",
            "祝你週末愉快！\n",
            "我喜歡跟你聊天，現在有點累了，下次再聊!!\n"
          ],
          "name": "stdout"
        },
        {
          "output_type": "error",
          "ename": "NameError",
          "evalue": "ignored",
          "traceback": [
            "\u001b[0;31m---------------------------------------------------------------------------\u001b[0m",
            "\u001b[0;31mNameError\u001b[0m                                 Traceback (most recent call last)",
            "\u001b[0;32m<ipython-input-10-0d5f0325bbbc>\u001b[0m in \u001b[0;36m<module>\u001b[0;34m()\u001b[0m\n\u001b[1;32m     22\u001b[0m \u001b[0mprint\u001b[0m\u001b[0;34m(\u001b[0m\u001b[0;34m\"祝你週末愉快！\"\u001b[0m\u001b[0;34m)\u001b[0m\u001b[0;34m\u001b[0m\u001b[0;34m\u001b[0m\u001b[0m\n\u001b[1;32m     23\u001b[0m \u001b[0mprint\u001b[0m\u001b[0;34m(\u001b[0m\u001b[0;34m\"我喜歡跟你聊天，現在有點累了，下次再聊!!\"\u001b[0m\u001b[0;34m)\u001b[0m\u001b[0;34m\u001b[0m\u001b[0;34m\u001b[0m\u001b[0m\n\u001b[0;32m---> 24\u001b[0;31m \u001b[0mprint\u001b[0m\u001b[0;34m(\u001b[0m\u001b[0;34m\"再見\"\u001b[0m\u001b[0;34m,\u001b[0m \u001b[0mname\u001b[0m\u001b[0;34m,\u001b[0m \u001b[0;34m\"我喜歡跟你聊天！\"\u001b[0m\u001b[0;34m)\u001b[0m\u001b[0;34m\u001b[0m\u001b[0;34m\u001b[0m\u001b[0m\n\u001b[0m",
            "\u001b[0;31mNameError\u001b[0m: name 'name' is not defined"
          ]
        }
      ]
    },
    {
      "cell_type": "code",
      "metadata": {
        "id": "ugPgxKDOretL",
        "colab": {
          "base_uri": "https://localhost:8080/"
        },
        "outputId": "395981a4-ee0a-463f-cdce-0379631e03d6"
      },
      "source": [
        "### 身分證字號尾數是否為奇數 ###\n",
        "\n",
        "number = input(\"輸入你的身分證字號尾數\")\n",
        "ans = int(number)%2 == 1\n",
        "print(\"我的身分證字號是奇數\", ans )"
      ],
      "execution_count": 9,
      "outputs": [
        {
          "output_type": "stream",
          "text": [
            "輸入你的身分證字號尾數3\n",
            "我的身分證字號是奇數 True\n"
          ],
          "name": "stdout"
        }
      ]
    },
    {
      "cell_type": "code",
      "metadata": {
        "colab": {
          "base_uri": "https://localhost:8080/"
        },
        "id": "HajwazQq2wdw",
        "outputId": "97860ff8-c971-439c-f68f-4d960a8595aa"
      },
      "source": [
        "True and False\n",
        "True and True\n",
        "False and False\n",
        "False and True\n",
        "\n"
      ],
      "execution_count": 11,
      "outputs": [
        {
          "output_type": "execute_result",
          "data": {
            "text/plain": [
              "True"
            ]
          },
          "metadata": {
            "tags": []
          },
          "execution_count": 11
        }
      ]
    },
    {
      "cell_type": "code",
      "metadata": {
        "id": "uoWIPnrw56x8"
      },
      "source": [
        ""
      ],
      "execution_count": null,
      "outputs": []
    },
    {
      "cell_type": "code",
      "metadata": {
        "id": "9rBfPdTf57M8"
      },
      "source": [
        ""
      ],
      "execution_count": null,
      "outputs": []
    },
    {
      "cell_type": "code",
      "metadata": {
        "id": "qycxAl3H57Wu"
      },
      "source": [
        ""
      ],
      "execution_count": null,
      "outputs": []
    }
  ]
}