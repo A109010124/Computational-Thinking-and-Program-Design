{
  "nbformat": 4,
  "nbformat_minor": 0,
  "metadata": {
    "colab": {
      "name": "林士堯-WEEK4-練習作業.ipynb",
      "provenance": [],
      "collapsed_sections": [],
      "authorship_tag": "ABX9TyP3/E6l7aIdgHQaSBPcYW+Z",
      "include_colab_link": true
    },
    "kernelspec": {
      "name": "python3",
      "display_name": "Python 3"
    }
  },
  "cells": [
    {
      "cell_type": "markdown",
      "metadata": {
        "id": "view-in-github",
        "colab_type": "text"
      },
      "source": [
        "<a href=\"https://colab.research.google.com/github/A109010124/Computational-Thinking-and-Program-Design/blob/main/%E6%9E%97%E5%A3%AB%E5%A0%AF_WEEK4_%E7%B7%B4%E7%BF%92%E4%BD%9C%E6%A5%AD.ipynb\" target=\"_parent\"><img src=\"https://colab.research.google.com/assets/colab-badge.svg\" alt=\"Open In Colab\"/></a>"
      ]
    },
    {
      "cell_type": "markdown",
      "metadata": {
        "id": "1VqwvyJdU42H"
      },
      "source": [
        "#隨堂練習"
      ]
    },
    {
      "cell_type": "markdown",
      "metadata": {
        "id": "MbG69VbjWe09"
      },
      "source": [
        "#課後練習\n",
        "https://talk.ltn.com.tw/article/paper/1388928\n",
        "我認為新聞系學生學程式語言，是因為現在的流行趨勢，而人類和程式的關係只會越來越緊密，雖然對於文組生來說，學習這類的技能可說是一個頭兩個大，但因為現在人類社會幾乎都跟程式有關，因此學習程式設計是非常必要的，且可以幫助我們完成很多分析，雖然我們可能無法像資管或資工系那樣學的那麼透徹，但畢竟這是現在的趨勢，所以我覺得我們學這個是為了不讓自己和世界脫節。\n"
      ]
    },
    {
      "cell_type": "code",
      "metadata": {
        "id": "JjIkGDtOgRtT"
      },
      "source": [
        ""
      ],
      "execution_count": null,
      "outputs": []
    }
  ]
}